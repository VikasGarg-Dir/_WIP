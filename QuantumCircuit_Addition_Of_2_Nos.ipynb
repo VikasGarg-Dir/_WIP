{
  "nbformat": 4,
  "nbformat_minor": 0,
  "metadata": {
    "colab": {
      "provenance": []
    },
    "kernelspec": {
      "name": "python3",
      "display_name": "Python 3"
    },
    "language_info": {
      "name": "python"
    }
  },
  "cells": [
    {
      "cell_type": "markdown",
      "source": [
        "# Quantum_addition_of_two_numbers\n",
        "\n",
        "The code runs in IBM QISKIT quantum Simulator/ Simulator for adding two numbers The file has two functions - one to represent binary numbers in quantum state and another to carry out rotations for additions using cp (control rotation) gates."
      ],
      "metadata": {
        "id": "bN4yfcm52tO6"
      }
    },
    {
      "cell_type": "code",
      "source": [
        "!pip install qiskit qiskit-aer"
      ],
      "metadata": {
        "colab": {
          "base_uri": "https://localhost:8080/"
        },
        "id": "yYol4RMeyK-d",
        "outputId": "b9ec9e8b-d291-4d2d-8f4e-109182e42bf2"
      },
      "execution_count": null,
      "outputs": [
        {
          "output_type": "stream",
          "name": "stdout",
          "text": [
            "Collecting qiskit\n",
            "  Downloading qiskit-2.0.0-cp39-abi3-manylinux_2_17_x86_64.manylinux2014_x86_64.whl.metadata (12 kB)\n",
            "Collecting qiskit-aer\n",
            "  Downloading qiskit_aer-0.17.0-cp311-cp311-manylinux_2_17_x86_64.manylinux2014_x86_64.whl.metadata (8.2 kB)\n",
            "Collecting rustworkx>=0.15.0 (from qiskit)\n",
            "  Downloading rustworkx-0.16.0-cp39-abi3-manylinux_2_17_x86_64.manylinux2014_x86_64.whl.metadata (10 kB)\n",
            "Requirement already satisfied: numpy<3,>=1.17 in /usr/local/lib/python3.11/dist-packages (from qiskit) (2.0.2)\n",
            "Requirement already satisfied: scipy>=1.5 in /usr/local/lib/python3.11/dist-packages (from qiskit) (1.14.1)\n",
            "Requirement already satisfied: sympy>=1.3 in /usr/local/lib/python3.11/dist-packages (from qiskit) (1.13.1)\n",
            "Collecting dill>=0.3 (from qiskit)\n",
            "  Downloading dill-0.4.0-py3-none-any.whl.metadata (10 kB)\n",
            "Requirement already satisfied: python-dateutil>=2.8.0 in /usr/local/lib/python3.11/dist-packages (from qiskit) (2.8.2)\n",
            "Collecting stevedore>=3.0.0 (from qiskit)\n",
            "  Downloading stevedore-5.4.1-py3-none-any.whl.metadata (2.3 kB)\n",
            "Requirement already satisfied: typing-extensions in /usr/local/lib/python3.11/dist-packages (from qiskit) (4.13.2)\n",
            "Collecting symengine<0.14,>=0.11 (from qiskit)\n",
            "  Downloading symengine-0.13.0-cp311-cp311-manylinux_2_17_x86_64.manylinux2014_x86_64.whl.metadata (1.2 kB)\n",
            "Requirement already satisfied: psutil>=5 in /usr/local/lib/python3.11/dist-packages (from qiskit-aer) (5.9.5)\n",
            "Requirement already satisfied: six>=1.5 in /usr/local/lib/python3.11/dist-packages (from python-dateutil>=2.8.0->qiskit) (1.17.0)\n",
            "Collecting pbr>=2.0.0 (from stevedore>=3.0.0->qiskit)\n",
            "  Downloading pbr-6.1.1-py2.py3-none-any.whl.metadata (3.4 kB)\n",
            "Requirement already satisfied: mpmath<1.4,>=1.1.0 in /usr/local/lib/python3.11/dist-packages (from sympy>=1.3->qiskit) (1.3.0)\n",
            "Requirement already satisfied: setuptools in /usr/local/lib/python3.11/dist-packages (from pbr>=2.0.0->stevedore>=3.0.0->qiskit) (75.2.0)\n",
            "Downloading qiskit-2.0.0-cp39-abi3-manylinux_2_17_x86_64.manylinux2014_x86_64.whl (6.5 MB)\n",
            "\u001b[2K   \u001b[90m━━━━━━━━━━━━━━━━━━━━━━━━━━━━━━━━━━━━━━━━\u001b[0m \u001b[32m6.5/6.5 MB\u001b[0m \u001b[31m27.0 MB/s\u001b[0m eta \u001b[36m0:00:00\u001b[0m\n",
            "\u001b[?25hDownloading qiskit_aer-0.17.0-cp311-cp311-manylinux_2_17_x86_64.manylinux2014_x86_64.whl (12.4 MB)\n",
            "\u001b[2K   \u001b[90m━━━━━━━━━━━━━━━━━━━━━━━━━━━━━━━━━━━━━━━━\u001b[0m \u001b[32m12.4/12.4 MB\u001b[0m \u001b[31m59.5 MB/s\u001b[0m eta \u001b[36m0:00:00\u001b[0m\n",
            "\u001b[?25hDownloading dill-0.4.0-py3-none-any.whl (119 kB)\n",
            "\u001b[2K   \u001b[90m━━━━━━━━━━━━━━━━━━━━━━━━━━━━━━━━━━━━━━━━\u001b[0m \u001b[32m119.7/119.7 kB\u001b[0m \u001b[31m8.9 MB/s\u001b[0m eta \u001b[36m0:00:00\u001b[0m\n",
            "\u001b[?25hDownloading rustworkx-0.16.0-cp39-abi3-manylinux_2_17_x86_64.manylinux2014_x86_64.whl (2.1 MB)\n",
            "\u001b[2K   \u001b[90m━━━━━━━━━━━━━━━━━━━━━━━━━━━━━━━━━━━━━━━━\u001b[0m \u001b[32m2.1/2.1 MB\u001b[0m \u001b[31m47.8 MB/s\u001b[0m eta \u001b[36m0:00:00\u001b[0m\n",
            "\u001b[?25hDownloading stevedore-5.4.1-py3-none-any.whl (49 kB)\n",
            "\u001b[2K   \u001b[90m━━━━━━━━━━━━━━━━━━━━━━━━━━━━━━━━━━━━━━━━\u001b[0m \u001b[32m49.5/49.5 kB\u001b[0m \u001b[31m2.6 MB/s\u001b[0m eta \u001b[36m0:00:00\u001b[0m\n",
            "\u001b[?25hDownloading symengine-0.13.0-cp311-cp311-manylinux_2_17_x86_64.manylinux2014_x86_64.whl (49.7 MB)\n",
            "\u001b[2K   \u001b[90m━━━━━━━━━━━━━━━━━━━━━━━━━━━━━━━━━━━━━━━━\u001b[0m \u001b[32m49.7/49.7 MB\u001b[0m \u001b[31m14.5 MB/s\u001b[0m eta \u001b[36m0:00:00\u001b[0m\n",
            "\u001b[?25hDownloading pbr-6.1.1-py2.py3-none-any.whl (108 kB)\n",
            "\u001b[2K   \u001b[90m━━━━━━━━━━━━━━━━━━━━━━━━━━━━━━━━━━━━━━━━\u001b[0m \u001b[32m109.0/109.0 kB\u001b[0m \u001b[31m6.4 MB/s\u001b[0m eta \u001b[36m0:00:00\u001b[0m\n",
            "\u001b[?25hInstalling collected packages: symengine, rustworkx, pbr, dill, stevedore, qiskit, qiskit-aer\n",
            "Successfully installed dill-0.4.0 pbr-6.1.1 qiskit-2.0.0 qiskit-aer-0.17.0 rustworkx-0.16.0 stevedore-5.4.1 symengine-0.13.0\n"
          ]
        }
      ]
    },
    {
      "cell_type": "code",
      "execution_count": null,
      "metadata": {
        "id": "-W3A4ApKyAbx"
      },
      "outputs": [],
      "source": [
        "import numpy as np\n",
        "import qiskit\n",
        "from qiskit import QuantumCircuit, QuantumRegister, ClassicalRegister\n",
        "from qiskit_aer import Aer\n",
        "from qiskit_aer import AerSimulator\n",
        "from qiskit.visualization import plot_histogram\n",
        "from qiskit.circuit.library import QFT"
      ]
    },
    {
      "cell_type": "code",
      "source": [
        "# Function to change decimal number to Binary numbers and to Qiskit States\n",
        "def change2qubit(a,b):\n",
        "    a_bin = '{0:{fill}3b}'.format(a, fill='0')\n",
        "    b_bin = '{0:{fill}3b}'.format(b, fill='0')\n",
        "    qa = QuantumRegister(3,'a')\n",
        "    qb = QuantumRegister(3,'b')\n",
        "    ca = ClassicalRegister(3,'c')\n",
        "    qc = QuantumCircuit(qa, qb, ca)\n",
        "    for i in range(3):\n",
        "        if a_bin[i] == '1':\n",
        "            qc.x(qa[2-i])\n",
        "        if b_bin[i] == '1':\n",
        "            qc.x(qb[2-i])\n",
        "    return qc, qa, qb, ca"
      ],
      "metadata": {
        "id": "T7asVOVnyFoP"
      },
      "execution_count": null,
      "outputs": []
    },
    {
      "cell_type": "code",
      "source": [
        "# Function which adds/rotates and retains the answer in the first register\n",
        "def add_rotations(qc, t_reg, c_reg, n):\n",
        "    for i in range(0, n+1):\n",
        "        qc.cp(np.pi / 2**i, c_reg[n-i], t_reg[n])"
      ],
      "metadata": {
        "id": "sLn3GoMkyFkw"
      },
      "execution_count": null,
      "outputs": []
    },
    {
      "cell_type": "code",
      "source": [
        "a = 1\n",
        "b = 2\n",
        "n = 3\n",
        "\n",
        "qc, qa, qb, ca = change2qubit(a,b)"
      ],
      "metadata": {
        "id": "AAbqSzCgyFh_"
      },
      "execution_count": null,
      "outputs": []
    },
    {
      "cell_type": "markdown",
      "source": [],
      "metadata": {
        "id": "tQP3Evlq2kG3"
      }
    },
    {
      "cell_type": "code",
      "source": [
        "qc.append(QFT(n, do_swaps=False), [0,1,2])\n",
        "for i in range(0, n):\n",
        "    add_rotations(qc, qa, qb, 2-i)\n",
        "qc.append(QFT(n, do_swaps=False).inverse(), [0,1,2])"
      ],
      "metadata": {
        "colab": {
          "base_uri": "https://localhost:8080/"
        },
        "id": "xcNwikge1Guq",
        "outputId": "ec8dc313-25d5-49af-b6d0-be9bb33ecb1e"
      },
      "execution_count": null,
      "outputs": [
        {
          "output_type": "execute_result",
          "data": {
            "text/plain": [
              "<qiskit.circuit.instructionset.InstructionSet at 0x7ea4e8f4d090>"
            ]
          },
          "metadata": {},
          "execution_count": 6
        }
      ]
    },
    {
      "cell_type": "code",
      "source": [
        "qc.measure(qa, ca)\n",
        "qc.draw('text')"
      ],
      "metadata": {
        "colab": {
          "base_uri": "https://localhost:8080/",
          "height": 499
        },
        "id": "U9oovv9eyFW5",
        "outputId": "3cc165b3-e1e2-4b02-8d61-6be92dcf4385"
      },
      "execution_count": null,
      "outputs": [
        {
          "output_type": "execute_result",
          "data": {
            "text/plain": [
              "     ┌───┐┌──────┐                                                ┌───────┐┌─┐»\n",
              "a_0: ┤ X ├┤0     ├──────────────────────────────────────────■─────┤0      ├┤M├»\n",
              "     └───┘│      │                                          │     │       │└╥┘»\n",
              "a_1: ─────┤1 QFT ├──────────────────────────■──────■────────┼─────┤1 IQFT ├─╫─»\n",
              "          │      │                          │      │        │     │       │ ║ »\n",
              "a_2: ─────┤2     ├─■──────■────────■────────┼──────┼────────┼─────┤2      ├─╫─»\n",
              "          └──────┘ │      │        │P(π/4)  │      │P(π/2)  │P(π) └───────┘ ║ »\n",
              "b_0: ──────────────┼──────┼────────■────────┼──────■────────■───────────────╫─»\n",
              "     ┌───┐         │      │P(π/2)           │P(π)                           ║ »\n",
              "b_1: ┤ X ├─────────┼──────■─────────────────■───────────────────────────────╫─»\n",
              "     └───┘         │P(π)                                                    ║ »\n",
              "b_2: ──────────────■────────────────────────────────────────────────────────╫─»\n",
              "                                                                            ║ »\n",
              "c: 3/═══════════════════════════════════════════════════════════════════════╩═»\n",
              "                                                                            0 »\n",
              "«           \n",
              "«a_0: ──────\n",
              "«     ┌─┐   \n",
              "«a_1: ┤M├───\n",
              "«     └╥┘┌─┐\n",
              "«a_2: ─╫─┤M├\n",
              "«      ║ └╥┘\n",
              "«b_0: ─╫──╫─\n",
              "«      ║  ║ \n",
              "«b_1: ─╫──╫─\n",
              "«      ║  ║ \n",
              "«b_2: ─╫──╫─\n",
              "«      ║  ║ \n",
              "«c: 3/═╩══╩═\n",
              "«      1  2 "
            ],
            "text/html": [
              "<pre style=\"word-wrap: normal;white-space: pre;background: #fff0;line-height: 1.1;font-family: &quot;Courier New&quot;,Courier,monospace\">     ┌───┐┌──────┐                                                ┌───────┐┌─┐»\n",
              "a_0: ┤ X ├┤0     ├──────────────────────────────────────────■─────┤0      ├┤M├»\n",
              "     └───┘│      │                                          │     │       │└╥┘»\n",
              "a_1: ─────┤1 QFT ├──────────────────────────■──────■────────┼─────┤1 IQFT ├─╫─»\n",
              "          │      │                          │      │        │     │       │ ║ »\n",
              "a_2: ─────┤2     ├─■──────■────────■────────┼──────┼────────┼─────┤2      ├─╫─»\n",
              "          └──────┘ │      │        │P(π/4)  │      │P(π/2)  │P(π) └───────┘ ║ »\n",
              "b_0: ──────────────┼──────┼────────■────────┼──────■────────■───────────────╫─»\n",
              "     ┌───┐         │      │P(π/2)           │P(π)                           ║ »\n",
              "b_1: ┤ X ├─────────┼──────■─────────────────■───────────────────────────────╫─»\n",
              "     └───┘         │P(π)                                                    ║ »\n",
              "b_2: ──────────────■────────────────────────────────────────────────────────╫─»\n",
              "                                                                            ║ »\n",
              "c: 3/═══════════════════════════════════════════════════════════════════════╩═»\n",
              "                                                                            0 »\n",
              "«           \n",
              "«a_0: ──────\n",
              "«     ┌─┐   \n",
              "«a_1: ┤M├───\n",
              "«     └╥┘┌─┐\n",
              "«a_2: ─╫─┤M├\n",
              "«      ║ └╥┘\n",
              "«b_0: ─╫──╫─\n",
              "«      ║  ║ \n",
              "«b_1: ─╫──╫─\n",
              "«      ║  ║ \n",
              "«b_2: ─╫──╫─\n",
              "«      ║  ║ \n",
              "«c: 3/═╩══╩═\n",
              "«      1  2 </pre>"
            ]
          },
          "metadata": {},
          "execution_count": 7
        }
      ]
    },
    {
      "cell_type": "code",
      "source": [
        "qc = qc.decompose(reps=2)"
      ],
      "metadata": {
        "id": "U4aXpf_8z_Gh"
      },
      "execution_count": null,
      "outputs": []
    },
    {
      "cell_type": "code",
      "source": [
        "# Setup backend and run\n",
        "backend = Aer.get_backend('aer_simulator')\n",
        "job = backend.run(qc, shots=100)\n",
        "result = job.result()\n",
        "\n",
        "# Get results and plot\n",
        "answer = result.get_counts()\n",
        "plot_histogram(answer)"
      ],
      "metadata": {
        "colab": {
          "base_uri": "https://localhost:8080/",
          "height": 487
        },
        "id": "IhQdXYqKyFUI",
        "outputId": "96a53b0f-e20a-4e70-e86a-6be8ac666a0d"
      },
      "execution_count": null,
      "outputs": [
        {
          "output_type": "execute_result",
          "data": {
            "text/plain": [
              "<Figure size 640x480 with 1 Axes>"
            ],
            "image/png": "[encoded data removed]"
          },
          "metadata": {},
          "execution_count": 9
        }
      ]
    }
  ]
}